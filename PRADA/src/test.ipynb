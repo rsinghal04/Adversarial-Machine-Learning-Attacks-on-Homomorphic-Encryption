{
 "cells": [
  {
   "cell_type": "code",
   "execution_count": null,
   "metadata": {},
   "outputs": [],
   "source": [
    "import client"
   ]
  }
 ],
 "metadata": {
  "kernelspec": {
   "display_name": "prada",
   "language": "python",
   "name": "python3"
  },
  "language_info": {
   "name": "python",
   "version": "3.10.9 | packaged by conda-forge | (main, Jan 11 2023, 15:15:40) [MSC v.1916 64 bit (AMD64)]"
  },
  "orig_nbformat": 4,
  "vscode": {
   "interpreter": {
    "hash": "4fdff2d5e15c529e06ab9450dcef4ae66df178565a598f0927427c038c55385c"
   }
  }
 },
 "nbformat": 4,
 "nbformat_minor": 2
}
