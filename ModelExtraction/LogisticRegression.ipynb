{
  "nbformat": 4,
  "nbformat_minor": 0,
  "metadata": {
    "colab": {
      "provenance": []
    },
    "kernelspec": {
      "name": "python3",
      "display_name": "Python 3"
    },
    "language_info": {
      "name": "python"
    },
    "gpuClass": "standard"
  },
  "cells": [
    {
      "cell_type": "markdown",
      "source": [
        "The code has been implemented in Keras. For performing model extraction attacks and defense we use IBM Art.\n",
        "<br>\n",
        "title = Adversarial Robustness Toolbox v1.2.0\n",
        "<br>\n",
        "author = Nicolae, Maria-Irina and Sinn, Mathieu and Tran, Minh~Ngoc and Buesser, Beat and Rawat, Ambrish and Wistuba, Martin and Zantedeschi, Valentina and Baracaldo, Nathalie and Chen, Bryant and Ludwig, Heiko and Molloy, Ian and Edwards, Ben\n",
        "<br>\n",
        "year = 2018\n",
        "<br>\n",
        "url = https://arxiv.org/pdf/1807.01069\n",
        "<br>\n",
        "github = https://github.com/Trusted-AI/adversarial-robustness-toolbox"
      ],
      "metadata": {
        "id": "gNsnOe8etnLf"
      }
    },
    {
      "cell_type": "markdown",
      "source": [
        "# Cell 1\n",
        "#Installing IBM Art"
      ],
      "metadata": {
        "id": "hLa3l7RKtvHE"
      }
    },
    {
      "cell_type": "code",
      "source": [
        "!pip install adversarial-robustness-toolbox"
      ],
      "metadata": {
        "colab": {
          "base_uri": "https://localhost:8080/"
        },
        "id": "fDne-ks5HY-h",
        "outputId": "588d1cd9-210e-4668-83ab-f34ceaba43fe"
      },
      "execution_count": null,
      "outputs": [
        {
          "output_type": "stream",
          "name": "stdout",
          "text": [
            "Looking in indexes: https://pypi.org/simple, https://us-python.pkg.dev/colab-wheels/public/simple/\n",
            "Requirement already satisfied: adversarial-robustness-toolbox in /usr/local/lib/python3.8/dist-packages (1.13.0)\n",
            "Requirement already satisfied: tqdm in /usr/local/lib/python3.8/dist-packages (from adversarial-robustness-toolbox) (4.64.1)\n",
            "Requirement already satisfied: setuptools in /usr/local/lib/python3.8/dist-packages (from adversarial-robustness-toolbox) (57.4.0)\n",
            "Requirement already satisfied: six in /usr/local/lib/python3.8/dist-packages (from adversarial-robustness-toolbox) (1.15.0)\n",
            "Requirement already satisfied: numpy>=1.18.0 in /usr/local/lib/python3.8/dist-packages (from adversarial-robustness-toolbox) (1.21.6)\n",
            "Requirement already satisfied: scipy>=1.4.1 in /usr/local/lib/python3.8/dist-packages (from adversarial-robustness-toolbox) (1.7.3)\n",
            "Requirement already satisfied: scikit-learn<1.2.0,>=0.22.2 in /usr/local/lib/python3.8/dist-packages (from adversarial-robustness-toolbox) (1.0.2)\n",
            "Requirement already satisfied: threadpoolctl>=2.0.0 in /usr/local/lib/python3.8/dist-packages (from scikit-learn<1.2.0,>=0.22.2->adversarial-robustness-toolbox) (3.1.0)\n",
            "Requirement already satisfied: joblib>=0.11 in /usr/local/lib/python3.8/dist-packages (from scikit-learn<1.2.0,>=0.22.2->adversarial-robustness-toolbox) (1.2.0)\n"
          ]
        }
      ]
    },
    {
      "cell_type": "markdown",
      "source": [
        "# Cell 2\n",
        "#Required imports"
      ],
      "metadata": {
        "id": "DuFoC6ftt34H"
      }
    },
    {
      "cell_type": "code",
      "source": [
        "import torch\n",
        "import torch.nn as nn\n",
        "import torchvision.transforms as transforms\n",
        "import torchvision.datasets as dsets\n",
        "\n",
        "import numpy as np\n",
        "import pandas as pd\n",
        "import matplotlib.pyplot as plt\n",
        "%matplotlib inline\n",
        "\n",
        "import art\n",
        "from art.estimators.classification import PyTorchClassifier\n",
        "from art.utils import load_mnist\n",
        "from art.attacks import ExtractionAttack\n",
        "from art.attacks.extraction import CopycatCNN, KnockoffNets\n",
        "from art.defences.postprocessor import GaussianNoise\n",
        "\n",
        "import random\n",
        "random.seed(0)\n",
        "np.random.seed(0)\n",
        "torch.manual_seed(0)"
      ],
      "metadata": {
        "colab": {
          "base_uri": "https://localhost:8080/"
        },
        "id": "Qa1f740VVLYZ",
        "outputId": "5cb1ec2b-b609-4b32-a82e-1b215fe0db42"
      },
      "execution_count": null,
      "outputs": [
        {
          "output_type": "execute_result",
          "data": {
            "text/plain": [
              "<torch._C.Generator at 0x7ff6a2044a70>"
            ]
          },
          "metadata": {},
          "execution_count": 17
        }
      ]
    },
    {
      "cell_type": "markdown",
      "source": [
        "# Cell 3\n",
        "#Loading MNIST datatset"
      ],
      "metadata": {
        "id": "ZT-mdjwCuDlN"
      }
    },
    {
      "cell_type": "code",
      "source": [
        "#Loading the training dataset\n",
        "#train_dataset.data represents the tensor of features. Shape is [NoofSamples,28,28]. \n",
        "#Min value 0 and max 255. \n",
        "#Data is not normalized but can be done by train_dataset.data = train_dataset.data/255\n",
        "#train_dataset.targets represents the tensor of class labels. Shape is [NoofSamples]\n",
        "train_dataset = dsets.MNIST(root='./data', \n",
        "                            train=True, \n",
        "                            transform=transforms.ToTensor(),\n",
        "                            download=True)\n",
        "# Selecting only classes 0 and 1 for LR\n",
        "idx = (train_dataset.targets==0) | (train_dataset.targets==1)\n",
        "train_dataset.targets = train_dataset.targets[idx]\n",
        "train_dataset.data = train_dataset.data[idx]/255.0\n",
        "\n",
        "#Loading the test dataset\n",
        "#test_dataset.data represents the tensor of features. Shape is [NoofSamples,28,28]. \n",
        "#Min value 0 and max 255. \n",
        "#Data is not normalized but can be done by test_dataset.data = test_dataset.data/255\n",
        "#test_dataset.targets represents the tensor of class labels. Shape is [NoofSamples]\n",
        "test_dataset = dsets.MNIST(root='./data', \n",
        "                           train=False, \n",
        "                           transform=transforms.ToTensor())\n",
        "# Selecting classes 0 and 1 for LR\n",
        "idx = (test_dataset.targets==0) | (test_dataset.targets==1)\n",
        "test_dataset.targets = test_dataset.targets[idx]\n",
        "test_dataset.data = test_dataset.data[idx]/255.0"
      ],
      "metadata": {
        "id": "YbfQEF7xTrKt"
      },
      "execution_count": null,
      "outputs": []
    },
    {
      "cell_type": "markdown",
      "source": [
        "# Cell 4\n",
        "# Creating Dataloaders"
      ],
      "metadata": {
        "id": "PP6qbdyWuFKS"
      }
    },
    {
      "cell_type": "code",
      "source": [
        "#Data loaders\n",
        "train_loader = torch.utils.data.DataLoader(dataset=train_dataset, \n",
        "                                           batch_size=64, \n",
        "                                           shuffle=True)\n",
        "\n",
        "test_loader = torch.utils.data.DataLoader(dataset=test_dataset, \n",
        "                                          batch_size=64, \n",
        "                                          shuffle=False)\n",
        "\n",
        "train_dataset.data=train_dataset.data.unsqueeze(1)\n",
        "test_dataset.data=test_dataset.data.unsqueeze(1)\n",
        "print(train_dataset.data.shape)\n",
        "print(test_dataset.data.shape)"
      ],
      "metadata": {
        "id": "FQtOLOElSAen"
      },
      "execution_count": null,
      "outputs": []
    },
    {
      "cell_type": "markdown",
      "source": [
        "# Cell 5\n",
        "#Creating approximation function of ReLU and LR Model."
      ],
      "metadata": {
        "id": "3Sr0O1sduNiW"
      }
    },
    {
      "cell_type": "code",
      "source": [
        "# Approximate Sigmoid function\n",
        "def sigmoid_approx(input):\n",
        "\n",
        "    return  0.5 + 0.197*input - 0.004*input*input*input\n",
        "\n",
        "#LR model using approximation\n",
        "class LogisticRegressionModel(nn.Module):\n",
        "    def __init__(self):\n",
        "        super(LogisticRegressionModel, self).__init__()\n",
        "        self.linear = nn.Linear(784, 1) #Input dimension is 784(28*28) and output is 1\n",
        "\n",
        "    def forward(self, x):\n",
        "        out = self.linear(x)\n",
        "        # apply sigmoid approx function\n",
        "        out = sigmoid_approx(out)\n",
        "        #The outputs are not in range [0,1] in some cases. Therefore, the below step\n",
        "        out[out<0] = 0\n",
        "        out[out>1] = 1\n",
        "        return out\n"
      ],
      "metadata": {
        "id": "4crNTRrt3781"
      },
      "execution_count": null,
      "outputs": []
    },
    {
      "cell_type": "markdown",
      "source": [
        "# Cell 6\n",
        "#Training the victim model for 30 epochs."
      ],
      "metadata": {
        "id": "zFZbbYZ4uaSX"
      }
    },
    {
      "cell_type": "code",
      "source": [
        "#Without defense\n",
        "model = LogisticRegressionModel()\n",
        "criterion = nn.BCELoss()\n",
        "optimizer = torch.optim.SGD(model.parameters(), lr=.001)\n",
        "classifier = PyTorchClassifier(\n",
        "    model=model,\n",
        "    clip_values=(0, 1),\n",
        "    loss=criterion,\n",
        "    optimizer=optimizer,\n",
        "    input_shape=784,\n",
        "    nb_classes=2,\n",
        ")\n",
        "classifier.fit(train_dataset.data.numpy().reshape(-1,784), train_dataset.targets.numpy(), batch_size=64, nb_epochs=30)\n",
        "predictions = classifier.predict(test_dataset.data.numpy().reshape(-1,784)).squeeze()\n",
        "predictions = np.around(predictions)\n",
        "accuracy = ((predictions==test_dataset.targets.numpy()).sum())/len(test_dataset.targets.numpy())\n",
        "print(accuracy*100)"
      ],
      "metadata": {
        "id": "-xD98GRg24Sh",
        "colab": {
          "base_uri": "https://localhost:8080/"
        },
        "outputId": "869fa148-9d5b-4327-f098-2cf532c5c626"
      },
      "execution_count": null,
      "outputs": [
        {
          "output_type": "stream",
          "name": "stdout",
          "text": [
            "99.8581560283688\n"
          ]
        }
      ]
    },
    {
      "cell_type": "markdown",
      "source": [
        "# Cell 7\n",
        "# Using FMNIST for stealing"
      ],
      "metadata": {
        "id": "8Q-9uje5ufRS"
      }
    },
    {
      "cell_type": "code",
      "source": [
        "dataset_steal = dsets.FashionMNIST('./pytorch/data/', train = True, download = True)\n",
        "X_steal = dataset_steal.data.numpy().reshape(-1,784)\n",
        "X_steal = X_steal/255.0\n",
        "print(X_steal.shape)"
      ],
      "metadata": {
        "colab": {
          "base_uri": "https://localhost:8080/"
        },
        "id": "X4Ote8N0PY27",
        "outputId": "3cffd4bb-a2e7-4597-b548-4d4e31b17811"
      },
      "execution_count": null,
      "outputs": [
        {
          "output_type": "stream",
          "name": "stdout",
          "text": [
            "(60000, 784)\n"
          ]
        }
      ]
    },
    {
      "cell_type": "markdown",
      "source": [
        "# Cell 8\n",
        "# Performing extraction."
      ],
      "metadata": {
        "id": "n2HvSpimupAc"
      }
    },
    {
      "cell_type": "code",
      "source": [
        "num_epochs = 30\n",
        "len_steal = 5000\n",
        "results = []\n",
        "attack_catalogue = {\"Probabilistic CopycatCNN\": CopycatCNN(classifier=classifier,\n",
        "                                        batch_size_fit=64,\n",
        "                                        batch_size_query=64,\n",
        "                                        nb_epochs=num_epochs,\n",
        "                                        nb_stolen=len_steal,\n",
        "                                        use_probability=True),\n",
        "              \"Argmax CopycatCNN\": CopycatCNN(classifier=classifier,\n",
        "                                        batch_size_fit=64,\n",
        "                                        batch_size_query=64,\n",
        "                                        nb_epochs=num_epochs,\n",
        "                                        nb_stolen=len_steal,\n",
        "                                        use_probability=False),\n",
        "              \"Probabilistic KnockoffNets\": KnockoffNets(classifier=classifier,\n",
        "                                        batch_size_fit=64,\n",
        "                                        batch_size_query=64,\n",
        "                                        nb_epochs=num_epochs,\n",
        "                                        nb_stolen=len_steal,\n",
        "                                        use_probability=True),\n",
        "              \"Argmax KnockoffNets\": KnockoffNets(classifier=classifier,\n",
        "                                        batch_size_fit=64,\n",
        "                                        batch_size_query=64,\n",
        "                                        nb_epochs=num_epochs,\n",
        "                                        nb_stolen=len_steal,\n",
        "                                        use_probability=False),\n",
        "              }\n",
        "for len_steal in [500,1000,1500,2000,2500,3000,3500,4000,4500,5000]:\n",
        "  indices = np.random.permutation(len(X_steal))\n",
        "  x_steal = X_steal[indices[:len_steal]]\n",
        "  for name, attack in attack_catalogue.items():\n",
        "      classifier_stolen = PyTorchClassifier(model=model,clip_values=(0, 1),loss=criterion,optimizer=optimizer,input_shape=784,nb_classes=2)\n",
        "      classifier_stolen = attack.extract(x_steal,thieved_classifier=classifier_stolen)\n",
        "      pred=classifier_stolen.predict(test_dataset.data.numpy().reshape(-1,784)).squeeze()\n",
        "      accuracy = ((np.round(pred)==test_dataset.targets.numpy()).sum())/len(test_dataset.targets.numpy())\n",
        "      print(name,accuracy*100)\n",
        "      results.append((name, len_steal, accuracy))"
      ],
      "metadata": {
        "colab": {
          "base_uri": "https://localhost:8080/"
        },
        "id": "rBUqRt0HOZjT",
        "outputId": "f021bb7a-cdc4-4aeb-80b3-77458568a960"
      },
      "execution_count": null,
      "outputs": [
        {
          "output_type": "stream",
          "name": "stderr",
          "text": [
            "WARNING:art.attacks.extraction.copycat_cnn:The size of the source input is smaller than the expected number of queries submitted to the victim classifier.\n",
            "WARNING:art.attacks.extraction.copycat_cnn:The size of the source input is smaller than the expected number of queries submitted to the victim classifier.\n"
          ]
        },
        {
          "output_type": "stream",
          "name": "stdout",
          "text": [
            "Probabilistic CopycatCNN 97.02127659574468\n"
          ]
        },
        {
          "output_type": "stream",
          "name": "stderr",
          "text": [
            "WARNING:art.attacks.extraction.knockoff_nets:The size of the source input is smaller than the expected number of queries submitted to the victim classifier.\n"
          ]
        },
        {
          "output_type": "stream",
          "name": "stdout",
          "text": [
            "Argmax CopycatCNN 97.02127659574468\n"
          ]
        },
        {
          "output_type": "stream",
          "name": "stderr",
          "text": [
            "WARNING:art.attacks.extraction.knockoff_nets:The size of the source input is smaller than the expected number of queries submitted to the victim classifier.\n"
          ]
        },
        {
          "output_type": "stream",
          "name": "stdout",
          "text": [
            "Probabilistic KnockoffNets 96.97399527186761\n"
          ]
        },
        {
          "output_type": "stream",
          "name": "stderr",
          "text": [
            "WARNING:art.attacks.extraction.copycat_cnn:The size of the source input is smaller than the expected number of queries submitted to the victim classifier.\n"
          ]
        },
        {
          "output_type": "stream",
          "name": "stdout",
          "text": [
            "Argmax KnockoffNets 97.11583924349881\n"
          ]
        },
        {
          "output_type": "stream",
          "name": "stderr",
          "text": [
            "WARNING:art.attacks.extraction.copycat_cnn:The size of the source input is smaller than the expected number of queries submitted to the victim classifier.\n"
          ]
        },
        {
          "output_type": "stream",
          "name": "stdout",
          "text": [
            "Probabilistic CopycatCNN 97.30496453900709\n"
          ]
        },
        {
          "output_type": "stream",
          "name": "stderr",
          "text": [
            "WARNING:art.attacks.extraction.knockoff_nets:The size of the source input is smaller than the expected number of queries submitted to the victim classifier.\n"
          ]
        },
        {
          "output_type": "stream",
          "name": "stdout",
          "text": [
            "Argmax CopycatCNN 97.5886524822695\n"
          ]
        },
        {
          "output_type": "stream",
          "name": "stderr",
          "text": [
            "WARNING:art.attacks.extraction.knockoff_nets:The size of the source input is smaller than the expected number of queries submitted to the victim classifier.\n"
          ]
        },
        {
          "output_type": "stream",
          "name": "stdout",
          "text": [
            "Probabilistic KnockoffNets 97.68321513002364\n"
          ]
        },
        {
          "output_type": "stream",
          "name": "stderr",
          "text": [
            "WARNING:art.attacks.extraction.copycat_cnn:The size of the source input is smaller than the expected number of queries submitted to the victim classifier.\n"
          ]
        },
        {
          "output_type": "stream",
          "name": "stdout",
          "text": [
            "Argmax KnockoffNets 97.68321513002364\n"
          ]
        },
        {
          "output_type": "stream",
          "name": "stderr",
          "text": [
            "WARNING:art.attacks.extraction.copycat_cnn:The size of the source input is smaller than the expected number of queries submitted to the victim classifier.\n"
          ]
        },
        {
          "output_type": "stream",
          "name": "stdout",
          "text": [
            "Probabilistic CopycatCNN 97.63593380614657\n"
          ]
        },
        {
          "output_type": "stream",
          "name": "stderr",
          "text": [
            "WARNING:art.attacks.extraction.knockoff_nets:The size of the source input is smaller than the expected number of queries submitted to the victim classifier.\n"
          ]
        },
        {
          "output_type": "stream",
          "name": "stdout",
          "text": [
            "Argmax CopycatCNN 97.77777777777777\n"
          ]
        },
        {
          "output_type": "stream",
          "name": "stderr",
          "text": [
            "WARNING:art.attacks.extraction.knockoff_nets:The size of the source input is smaller than the expected number of queries submitted to the victim classifier.\n"
          ]
        },
        {
          "output_type": "stream",
          "name": "stdout",
          "text": [
            "Probabilistic KnockoffNets 97.73049645390071\n"
          ]
        },
        {
          "output_type": "stream",
          "name": "stderr",
          "text": [
            "WARNING:art.attacks.extraction.copycat_cnn:The size of the source input is smaller than the expected number of queries submitted to the victim classifier.\n"
          ]
        },
        {
          "output_type": "stream",
          "name": "stdout",
          "text": [
            "Argmax KnockoffNets 97.49408983451536\n"
          ]
        },
        {
          "output_type": "stream",
          "name": "stderr",
          "text": [
            "WARNING:art.attacks.extraction.copycat_cnn:The size of the source input is smaller than the expected number of queries submitted to the victim classifier.\n"
          ]
        },
        {
          "output_type": "stream",
          "name": "stdout",
          "text": [
            "Probabilistic CopycatCNN 97.35224586288416\n"
          ]
        },
        {
          "output_type": "stream",
          "name": "stderr",
          "text": [
            "WARNING:art.attacks.extraction.knockoff_nets:The size of the source input is smaller than the expected number of queries submitted to the victim classifier.\n"
          ]
        },
        {
          "output_type": "stream",
          "name": "stdout",
          "text": [
            "Argmax CopycatCNN 97.25768321513002\n"
          ]
        },
        {
          "output_type": "stream",
          "name": "stderr",
          "text": [
            "WARNING:art.attacks.extraction.knockoff_nets:The size of the source input is smaller than the expected number of queries submitted to the victim classifier.\n"
          ]
        },
        {
          "output_type": "stream",
          "name": "stdout",
          "text": [
            "Probabilistic KnockoffNets 96.8321513002364\n"
          ]
        },
        {
          "output_type": "stream",
          "name": "stderr",
          "text": [
            "WARNING:art.attacks.extraction.copycat_cnn:The size of the source input is smaller than the expected number of queries submitted to the victim classifier.\n"
          ]
        },
        {
          "output_type": "stream",
          "name": "stdout",
          "text": [
            "Argmax KnockoffNets 96.73758865248226\n"
          ]
        },
        {
          "output_type": "stream",
          "name": "stderr",
          "text": [
            "WARNING:art.attacks.extraction.copycat_cnn:The size of the source input is smaller than the expected number of queries submitted to the victim classifier.\n"
          ]
        },
        {
          "output_type": "stream",
          "name": "stdout",
          "text": [
            "Probabilistic CopycatCNN 96.59574468085106\n"
          ]
        },
        {
          "output_type": "stream",
          "name": "stderr",
          "text": [
            "WARNING:art.attacks.extraction.knockoff_nets:The size of the source input is smaller than the expected number of queries submitted to the victim classifier.\n"
          ]
        },
        {
          "output_type": "stream",
          "name": "stdout",
          "text": [
            "Argmax CopycatCNN 96.12293144208039\n"
          ]
        },
        {
          "output_type": "stream",
          "name": "stderr",
          "text": [
            "WARNING:art.attacks.extraction.knockoff_nets:The size of the source input is smaller than the expected number of queries submitted to the victim classifier.\n"
          ]
        },
        {
          "output_type": "stream",
          "name": "stdout",
          "text": [
            "Probabilistic KnockoffNets 96.2174940898345\n"
          ]
        },
        {
          "output_type": "stream",
          "name": "stderr",
          "text": [
            "WARNING:art.attacks.extraction.copycat_cnn:The size of the source input is smaller than the expected number of queries submitted to the victim classifier.\n"
          ]
        },
        {
          "output_type": "stream",
          "name": "stdout",
          "text": [
            "Argmax KnockoffNets 95.69739952718676\n"
          ]
        },
        {
          "output_type": "stream",
          "name": "stderr",
          "text": [
            "WARNING:art.attacks.extraction.copycat_cnn:The size of the source input is smaller than the expected number of queries submitted to the victim classifier.\n"
          ]
        },
        {
          "output_type": "stream",
          "name": "stdout",
          "text": [
            "Probabilistic CopycatCNN 94.94089834515367\n"
          ]
        },
        {
          "output_type": "stream",
          "name": "stderr",
          "text": [
            "WARNING:art.attacks.extraction.knockoff_nets:The size of the source input is smaller than the expected number of queries submitted to the victim classifier.\n"
          ]
        },
        {
          "output_type": "stream",
          "name": "stdout",
          "text": [
            "Argmax CopycatCNN 94.27895981087471\n"
          ]
        },
        {
          "output_type": "stream",
          "name": "stderr",
          "text": [
            "WARNING:art.attacks.extraction.knockoff_nets:The size of the source input is smaller than the expected number of queries submitted to the victim classifier.\n"
          ]
        },
        {
          "output_type": "stream",
          "name": "stdout",
          "text": [
            "Probabilistic KnockoffNets 93.19148936170212\n"
          ]
        },
        {
          "output_type": "stream",
          "name": "stderr",
          "text": [
            "WARNING:art.attacks.extraction.copycat_cnn:The size of the source input is smaller than the expected number of queries submitted to the victim classifier.\n"
          ]
        },
        {
          "output_type": "stream",
          "name": "stdout",
          "text": [
            "Argmax KnockoffNets 92.29314420803783\n"
          ]
        },
        {
          "output_type": "stream",
          "name": "stderr",
          "text": [
            "WARNING:art.attacks.extraction.copycat_cnn:The size of the source input is smaller than the expected number of queries submitted to the victim classifier.\n"
          ]
        },
        {
          "output_type": "stream",
          "name": "stdout",
          "text": [
            "Probabilistic CopycatCNN 90.0709219858156\n"
          ]
        },
        {
          "output_type": "stream",
          "name": "stderr",
          "text": [
            "WARNING:art.attacks.extraction.knockoff_nets:The size of the source input is smaller than the expected number of queries submitted to the victim classifier.\n"
          ]
        },
        {
          "output_type": "stream",
          "name": "stdout",
          "text": [
            "Argmax CopycatCNN 87.65957446808511\n"
          ]
        },
        {
          "output_type": "stream",
          "name": "stderr",
          "text": [
            "WARNING:art.attacks.extraction.knockoff_nets:The size of the source input is smaller than the expected number of queries submitted to the victim classifier.\n"
          ]
        },
        {
          "output_type": "stream",
          "name": "stdout",
          "text": [
            "Probabilistic KnockoffNets 83.87706855791961\n"
          ]
        },
        {
          "output_type": "stream",
          "name": "stderr",
          "text": [
            "WARNING:art.attacks.extraction.copycat_cnn:The size of the source input is smaller than the expected number of queries submitted to the victim classifier.\n"
          ]
        },
        {
          "output_type": "stream",
          "name": "stdout",
          "text": [
            "Argmax KnockoffNets 80.23640661938535\n"
          ]
        },
        {
          "output_type": "stream",
          "name": "stderr",
          "text": [
            "WARNING:art.attacks.extraction.copycat_cnn:The size of the source input is smaller than the expected number of queries submitted to the victim classifier.\n"
          ]
        },
        {
          "output_type": "stream",
          "name": "stdout",
          "text": [
            "Probabilistic CopycatCNN 77.11583924349881\n"
          ]
        },
        {
          "output_type": "stream",
          "name": "stderr",
          "text": [
            "WARNING:art.attacks.extraction.knockoff_nets:The size of the source input is smaller than the expected number of queries submitted to the victim classifier.\n"
          ]
        },
        {
          "output_type": "stream",
          "name": "stdout",
          "text": [
            "Argmax CopycatCNN 74.98817966903073\n"
          ]
        },
        {
          "output_type": "stream",
          "name": "stderr",
          "text": [
            "WARNING:art.attacks.extraction.knockoff_nets:The size of the source input is smaller than the expected number of queries submitted to the victim classifier.\n"
          ]
        },
        {
          "output_type": "stream",
          "name": "stdout",
          "text": [
            "Probabilistic KnockoffNets 72.57683215130024\n"
          ]
        },
        {
          "output_type": "stream",
          "name": "stderr",
          "text": [
            "WARNING:art.attacks.extraction.copycat_cnn:The size of the source input is smaller than the expected number of queries submitted to the victim classifier.\n"
          ]
        },
        {
          "output_type": "stream",
          "name": "stdout",
          "text": [
            "Argmax KnockoffNets 70.35460992907801\n"
          ]
        },
        {
          "output_type": "stream",
          "name": "stderr",
          "text": [
            "WARNING:art.attacks.extraction.copycat_cnn:The size of the source input is smaller than the expected number of queries submitted to the victim classifier.\n"
          ]
        },
        {
          "output_type": "stream",
          "name": "stdout",
          "text": [
            "Probabilistic CopycatCNN 68.74704491725768\n"
          ]
        },
        {
          "output_type": "stream",
          "name": "stderr",
          "text": [
            "WARNING:art.attacks.extraction.knockoff_nets:The size of the source input is smaller than the expected number of queries submitted to the victim classifier.\n"
          ]
        },
        {
          "output_type": "stream",
          "name": "stdout",
          "text": [
            "Argmax CopycatCNN 66.52482269503545\n"
          ]
        },
        {
          "output_type": "stream",
          "name": "stderr",
          "text": [
            "WARNING:art.attacks.extraction.knockoff_nets:The size of the source input is smaller than the expected number of queries submitted to the victim classifier.\n"
          ]
        },
        {
          "output_type": "stream",
          "name": "stdout",
          "text": [
            "Probabilistic KnockoffNets 64.39716312056738\n",
            "Argmax KnockoffNets 62.36406619385343\n",
            "Probabilistic CopycatCNN 61.182033096926716\n",
            "Argmax CopycatCNN 60.141843971631204\n",
            "Probabilistic KnockoffNets 59.00709219858156\n",
            "Argmax KnockoffNets 58.29787234042553\n"
          ]
        }
      ]
    },
    {
      "cell_type": "markdown",
      "source": [
        "# Cell 9\n",
        "# Plot accuracy of stolen model,"
      ],
      "metadata": {
        "id": "RnBgD1EJuvDb"
      }
    },
    {
      "cell_type": "code",
      "source": [
        "import pandas as pd\n",
        "df = pd.DataFrame(results, columns=('Method Name', 'Stealing Dataset Size', 'Accuracy'))\n",
        "fig, ax = plt.subplots(figsize=(8,6))\n",
        "ax.set_xlabel(\"Stealing Dataset Size\")\n",
        "ax.set_ylabel(\"Stolen Model Accuracy\")\n",
        "for name, group in df.groupby(\"Method Name\"):\n",
        "    group.plot(1, 2, ax=ax, label=name)\n",
        "plt.show()"
      ],
      "metadata": {
        "colab": {
          "base_uri": "https://localhost:8080/",
          "height": 388
        },
        "id": "VqFOlR03Ufjs",
        "outputId": "63a5f499-57e6-4dc6-8346-727e04e5d38f"
      },
      "execution_count": null,
      "outputs": [
        {
          "output_type": "display_data",
          "data": {
            "text/plain": [
              "<Figure size 576x432 with 1 Axes>"
            ],
            "image/png": "[encoded data removed]"
          },
          "metadata": {
            "needs_background": "light"
          }
        }
      ]
    },
    {
      "cell_type": "markdown",
      "source": [
        "# Cell 10\n",
        "# Prepare the defense layer."
      ],
      "metadata": {
        "id": "42k0ajpfu2Zo"
      }
    },
    {
      "cell_type": "code",
      "source": [
        "from art.defences.postprocessor import ReverseSigmoid\n",
        "postprocessor = ReverseSigmoid(beta=1.0, gamma=0.2)\n",
        "classifier_protected = PyTorchClassifier(\n",
        "    model=model,\n",
        "    clip_values=(0, 1),\n",
        "    loss=criterion,\n",
        "    optimizer=optimizer,\n",
        "    input_shape=784,\n",
        "    nb_classes=2,\n",
        "    postprocessing_defences=postprocessor\n",
        ")"
      ],
      "metadata": {
        "id": "43JIIgXwGarE"
      },
      "execution_count": null,
      "outputs": []
    },
    {
      "cell_type": "markdown",
      "source": [
        "# Cell 11\n",
        "# Extracting protected model."
      ],
      "metadata": {
        "id": "9b7qAzFVu8mO"
      }
    },
    {
      "cell_type": "code",
      "source": [
        "num_epochs = 30\n",
        "len_steal = 5000\n",
        "results_protected = []\n",
        "attack_catalogue = {\"Probabilistic CopycatCNN (vs. Protected)\": CopycatCNN(classifier=classifier_protected,\n",
        "                                        batch_size_fit=64,\n",
        "                                        batch_size_query=64,\n",
        "                                        nb_epochs=num_epochs,\n",
        "                                        nb_stolen=len_steal,\n",
        "                                        use_probability=True),\n",
        "              \"Argmax CopycatCNN (vs. Protected)\": CopycatCNN(classifier=classifier_protected,\n",
        "                                        batch_size_fit=64,\n",
        "                                        batch_size_query=64,\n",
        "                                        nb_epochs=num_epochs,\n",
        "                                        nb_stolen=len_steal,\n",
        "                                        use_probability=False),\n",
        "              \"Probabilistic KnockoffNets (vs. Protected)\": KnockoffNets(classifier=classifier_protected,\n",
        "                                        batch_size_fit=64,\n",
        "                                        batch_size_query=64,\n",
        "                                        nb_epochs=num_epochs,\n",
        "                                        nb_stolen=len_steal,\n",
        "                                        use_probability=True),\n",
        "              \"Argmax KnockoffNets (vs. Protected)\": KnockoffNets(classifier=classifier_protected,\n",
        "                                        batch_size_fit=64,\n",
        "                                        batch_size_query=64,\n",
        "                                        nb_epochs=num_epochs,\n",
        "                                        nb_stolen=len_steal,\n",
        "                                        use_probability=False),\n",
        "              }\n",
        "for len_steal in [500,1000,1500,2000,2500,3000,3500,4000,4500,5000]:\n",
        "  indices = np.random.permutation(len(X_steal))\n",
        "  x_steal = X_steal[indices[:len_steal]]\n",
        "  for name, attack in attack_catalogue.items():\n",
        "      classifier_stolen = PyTorchClassifier(model,clip_values=(0, 1),loss=criterion,optimizer=optimizer,input_shape=784, nb_classes=2)\n",
        "      classifier_stolen = attack.extract(x_steal,thieved_classifier=classifier_stolen)\n",
        "      pred=classifier_stolen.predict(test_dataset.data.numpy().reshape(-1,784)).squeeze()\n",
        "      accuracy = ((np.round(pred)==test_dataset.targets.numpy()).sum())/len(test_dataset.targets.numpy())\n",
        "      print(name,accuracy*100)\n",
        "      results_protected.append((name, len_steal, accuracy))"
      ],
      "metadata": {
        "colab": {
          "base_uri": "https://localhost:8080/"
        },
        "id": "6ydj3Y_dHAFV",
        "outputId": "be2ca904-60ba-43a1-8310-3046a5856a27"
      },
      "execution_count": null,
      "outputs": [
        {
          "output_type": "stream",
          "name": "stderr",
          "text": [
            "WARNING:art.attacks.extraction.copycat_cnn:The size of the source input is smaller than the expected number of queries submitted to the victim classifier.\n",
            "/usr/local/lib/python3.8/dist-packages/art/defences/postprocessor/reverse_sigmoid.py:91: RuntimeWarning: divide by zero encountered in log\n",
            "  sigmoid(-self.gamma * np.log((1.0 - preds_clipped_2) / preds_clipped_2)) - 0.5\n",
            "WARNING:art.attacks.extraction.copycat_cnn:The size of the source input is smaller than the expected number of queries submitted to the victim classifier.\n",
            "WARNING:art.attacks.extraction.knockoff_nets:The size of the source input is smaller than the expected number of queries submitted to the victim classifier.\n"
          ]
        },
        {
          "output_type": "stream",
          "name": "stdout",
          "text": [
            "Probabilistic CopycatCNN (vs. Protected) 58.34515366430259\n",
            "Argmax CopycatCNN (vs. Protected) 58.34515366430259\n"
          ]
        },
        {
          "output_type": "stream",
          "name": "stderr",
          "text": [
            "WARNING:art.attacks.extraction.knockoff_nets:The size of the source input is smaller than the expected number of queries submitted to the victim classifier.\n",
            "WARNING:art.attacks.extraction.copycat_cnn:The size of the source input is smaller than the expected number of queries submitted to the victim classifier.\n"
          ]
        },
        {
          "output_type": "stream",
          "name": "stdout",
          "text": [
            "Probabilistic KnockoffNets (vs. Protected) 58.250591016548455\n",
            "Argmax KnockoffNets (vs. Protected) 58.156028368794324\n"
          ]
        },
        {
          "output_type": "stream",
          "name": "stderr",
          "text": [
            "WARNING:art.attacks.extraction.copycat_cnn:The size of the source input is smaller than the expected number of queries submitted to the victim classifier.\n"
          ]
        },
        {
          "output_type": "stream",
          "name": "stdout",
          "text": [
            "Probabilistic CopycatCNN (vs. Protected) 57.49408983451537\n"
          ]
        },
        {
          "output_type": "stream",
          "name": "stderr",
          "text": [
            "WARNING:art.attacks.extraction.knockoff_nets:The size of the source input is smaller than the expected number of queries submitted to the victim classifier.\n"
          ]
        },
        {
          "output_type": "stream",
          "name": "stdout",
          "text": [
            "Argmax CopycatCNN (vs. Protected) 57.304964539007095\n"
          ]
        },
        {
          "output_type": "stream",
          "name": "stderr",
          "text": [
            "WARNING:art.attacks.extraction.knockoff_nets:The size of the source input is smaller than the expected number of queries submitted to the victim classifier.\n"
          ]
        },
        {
          "output_type": "stream",
          "name": "stdout",
          "text": [
            "Probabilistic KnockoffNets (vs. Protected) 57.16312056737589\n"
          ]
        },
        {
          "output_type": "stream",
          "name": "stderr",
          "text": [
            "WARNING:art.attacks.extraction.copycat_cnn:The size of the source input is smaller than the expected number of queries submitted to the victim classifier.\n"
          ]
        },
        {
          "output_type": "stream",
          "name": "stdout",
          "text": [
            "Argmax KnockoffNets (vs. Protected) 56.59574468085107\n"
          ]
        },
        {
          "output_type": "stream",
          "name": "stderr",
          "text": [
            "WARNING:art.attacks.extraction.copycat_cnn:The size of the source input is smaller than the expected number of queries submitted to the victim classifier.\n"
          ]
        },
        {
          "output_type": "stream",
          "name": "stdout",
          "text": [
            "Probabilistic CopycatCNN (vs. Protected) 56.59574468085107\n"
          ]
        },
        {
          "output_type": "stream",
          "name": "stderr",
          "text": [
            "WARNING:art.attacks.extraction.knockoff_nets:The size of the source input is smaller than the expected number of queries submitted to the victim classifier.\n"
          ]
        },
        {
          "output_type": "stream",
          "name": "stdout",
          "text": [
            "Argmax CopycatCNN (vs. Protected) 56.26477541371159\n"
          ]
        },
        {
          "output_type": "stream",
          "name": "stderr",
          "text": [
            "WARNING:art.attacks.extraction.knockoff_nets:The size of the source input is smaller than the expected number of queries submitted to the victim classifier.\n"
          ]
        },
        {
          "output_type": "stream",
          "name": "stdout",
          "text": [
            "Probabilistic KnockoffNets (vs. Protected) 55.83924349881797\n"
          ]
        },
        {
          "output_type": "stream",
          "name": "stderr",
          "text": [
            "WARNING:art.attacks.extraction.copycat_cnn:The size of the source input is smaller than the expected number of queries submitted to the victim classifier.\n"
          ]
        },
        {
          "output_type": "stream",
          "name": "stdout",
          "text": [
            "Argmax KnockoffNets (vs. Protected) 55.55555555555556\n"
          ]
        },
        {
          "output_type": "stream",
          "name": "stderr",
          "text": [
            "WARNING:art.attacks.extraction.copycat_cnn:The size of the source input is smaller than the expected number of queries submitted to the victim classifier.\n"
          ]
        },
        {
          "output_type": "stream",
          "name": "stdout",
          "text": [
            "Probabilistic CopycatCNN (vs. Protected) 55.17730496453901\n"
          ]
        },
        {
          "output_type": "stream",
          "name": "stderr",
          "text": [
            "WARNING:art.attacks.extraction.knockoff_nets:The size of the source input is smaller than the expected number of queries submitted to the victim classifier.\n"
          ]
        },
        {
          "output_type": "stream",
          "name": "stdout",
          "text": [
            "Argmax CopycatCNN (vs. Protected) 54.60992907801418\n"
          ]
        },
        {
          "output_type": "stream",
          "name": "stderr",
          "text": [
            "WARNING:art.attacks.extraction.knockoff_nets:The size of the source input is smaller than the expected number of queries submitted to the victim classifier.\n"
          ]
        },
        {
          "output_type": "stream",
          "name": "stdout",
          "text": [
            "Probabilistic KnockoffNets (vs. Protected) 54.184397163120565\n"
          ]
        },
        {
          "output_type": "stream",
          "name": "stderr",
          "text": [
            "WARNING:art.attacks.extraction.copycat_cnn:The size of the source input is smaller than the expected number of queries submitted to the victim classifier.\n"
          ]
        },
        {
          "output_type": "stream",
          "name": "stdout",
          "text": [
            "Argmax KnockoffNets (vs. Protected) 53.664302600472816\n"
          ]
        },
        {
          "output_type": "stream",
          "name": "stderr",
          "text": [
            "WARNING:art.attacks.extraction.copycat_cnn:The size of the source input is smaller than the expected number of queries submitted to the victim classifier.\n"
          ]
        },
        {
          "output_type": "stream",
          "name": "stdout",
          "text": [
            "Probabilistic CopycatCNN (vs. Protected) 53.09692671394799\n"
          ]
        },
        {
          "output_type": "stream",
          "name": "stderr",
          "text": [
            "WARNING:art.attacks.extraction.knockoff_nets:The size of the source input is smaller than the expected number of queries submitted to the victim classifier.\n"
          ]
        },
        {
          "output_type": "stream",
          "name": "stdout",
          "text": [
            "Argmax CopycatCNN (vs. Protected) 52.67139479905437\n"
          ]
        },
        {
          "output_type": "stream",
          "name": "stderr",
          "text": [
            "WARNING:art.attacks.extraction.knockoff_nets:The size of the source input is smaller than the expected number of queries submitted to the victim classifier.\n"
          ]
        },
        {
          "output_type": "stream",
          "name": "stdout",
          "text": [
            "Probabilistic KnockoffNets (vs. Protected) 52.10401891252955\n"
          ]
        },
        {
          "output_type": "stream",
          "name": "stderr",
          "text": [
            "WARNING:art.attacks.extraction.copycat_cnn:The size of the source input is smaller than the expected number of queries submitted to the victim classifier.\n"
          ]
        },
        {
          "output_type": "stream",
          "name": "stdout",
          "text": [
            "Argmax KnockoffNets (vs. Protected) 51.205673758865245\n"
          ]
        },
        {
          "output_type": "stream",
          "name": "stderr",
          "text": [
            "WARNING:art.attacks.extraction.copycat_cnn:The size of the source input is smaller than the expected number of queries submitted to the victim classifier.\n"
          ]
        },
        {
          "output_type": "stream",
          "name": "stdout",
          "text": [
            "Probabilistic CopycatCNN (vs. Protected) 50.92198581560283\n"
          ]
        },
        {
          "output_type": "stream",
          "name": "stderr",
          "text": [
            "WARNING:art.attacks.extraction.knockoff_nets:The size of the source input is smaller than the expected number of queries submitted to the victim classifier.\n"
          ]
        },
        {
          "output_type": "stream",
          "name": "stdout",
          "text": [
            "Argmax CopycatCNN (vs. Protected) 50.68557919621749\n"
          ]
        },
        {
          "output_type": "stream",
          "name": "stderr",
          "text": [
            "WARNING:art.attacks.extraction.knockoff_nets:The size of the source input is smaller than the expected number of queries submitted to the victim classifier.\n"
          ]
        },
        {
          "output_type": "stream",
          "name": "stdout",
          "text": [
            "Probabilistic KnockoffNets (vs. Protected) 50.307328605200944\n"
          ]
        },
        {
          "output_type": "stream",
          "name": "stderr",
          "text": [
            "WARNING:art.attacks.extraction.copycat_cnn:The size of the source input is smaller than the expected number of queries submitted to the victim classifier.\n"
          ]
        },
        {
          "output_type": "stream",
          "name": "stdout",
          "text": [
            "Argmax KnockoffNets (vs. Protected) 50.11820330969267\n"
          ]
        },
        {
          "output_type": "stream",
          "name": "stderr",
          "text": [
            "WARNING:art.attacks.extraction.copycat_cnn:The size of the source input is smaller than the expected number of queries submitted to the victim classifier.\n"
          ]
        },
        {
          "output_type": "stream",
          "name": "stdout",
          "text": [
            "Probabilistic CopycatCNN (vs. Protected) 49.976359338061464\n"
          ]
        },
        {
          "output_type": "stream",
          "name": "stderr",
          "text": [
            "WARNING:art.attacks.extraction.knockoff_nets:The size of the source input is smaller than the expected number of queries submitted to the victim classifier.\n"
          ]
        },
        {
          "output_type": "stream",
          "name": "stdout",
          "text": [
            "Argmax CopycatCNN (vs. Protected) 49.40898345153664\n"
          ]
        },
        {
          "output_type": "stream",
          "name": "stderr",
          "text": [
            "WARNING:art.attacks.extraction.knockoff_nets:The size of the source input is smaller than the expected number of queries submitted to the victim classifier.\n"
          ]
        },
        {
          "output_type": "stream",
          "name": "stdout",
          "text": [
            "Probabilistic KnockoffNets (vs. Protected) 48.93617021276596\n"
          ]
        },
        {
          "output_type": "stream",
          "name": "stderr",
          "text": [
            "WARNING:art.attacks.extraction.copycat_cnn:The size of the source input is smaller than the expected number of queries submitted to the victim classifier.\n"
          ]
        },
        {
          "output_type": "stream",
          "name": "stdout",
          "text": [
            "Argmax KnockoffNets (vs. Protected) 48.51063829787234\n"
          ]
        },
        {
          "output_type": "stream",
          "name": "stderr",
          "text": [
            "WARNING:art.attacks.extraction.copycat_cnn:The size of the source input is smaller than the expected number of queries submitted to the victim classifier.\n"
          ]
        },
        {
          "output_type": "stream",
          "name": "stdout",
          "text": [
            "Probabilistic CopycatCNN (vs. Protected) 47.84869976359338\n"
          ]
        },
        {
          "output_type": "stream",
          "name": "stderr",
          "text": [
            "WARNING:art.attacks.extraction.knockoff_nets:The size of the source input is smaller than the expected number of queries submitted to the victim classifier.\n"
          ]
        },
        {
          "output_type": "stream",
          "name": "stdout",
          "text": [
            "Argmax CopycatCNN (vs. Protected) 47.3758865248227\n"
          ]
        },
        {
          "output_type": "stream",
          "name": "stderr",
          "text": [
            "WARNING:art.attacks.extraction.knockoff_nets:The size of the source input is smaller than the expected number of queries submitted to the victim classifier.\n"
          ]
        },
        {
          "output_type": "stream",
          "name": "stdout",
          "text": [
            "Probabilistic KnockoffNets (vs. Protected) 47.04491725768322\n"
          ]
        },
        {
          "output_type": "stream",
          "name": "stderr",
          "text": [
            "WARNING:art.attacks.extraction.copycat_cnn:The size of the source input is smaller than the expected number of queries submitted to the victim classifier.\n"
          ]
        },
        {
          "output_type": "stream",
          "name": "stdout",
          "text": [
            "Argmax KnockoffNets (vs. Protected) 46.808510638297875\n"
          ]
        },
        {
          "output_type": "stream",
          "name": "stderr",
          "text": [
            "WARNING:art.attacks.extraction.copycat_cnn:The size of the source input is smaller than the expected number of queries submitted to the victim classifier.\n"
          ]
        },
        {
          "output_type": "stream",
          "name": "stdout",
          "text": [
            "Probabilistic CopycatCNN (vs. Protected) 46.52482269503546\n"
          ]
        },
        {
          "output_type": "stream",
          "name": "stderr",
          "text": [
            "WARNING:art.attacks.extraction.knockoff_nets:The size of the source input is smaller than the expected number of queries submitted to the victim classifier.\n"
          ]
        },
        {
          "output_type": "stream",
          "name": "stdout",
          "text": [
            "Argmax CopycatCNN (vs. Protected) 46.43026004728132\n"
          ]
        },
        {
          "output_type": "stream",
          "name": "stderr",
          "text": [
            "WARNING:art.attacks.extraction.knockoff_nets:The size of the source input is smaller than the expected number of queries submitted to the victim classifier.\n"
          ]
        },
        {
          "output_type": "stream",
          "name": "stdout",
          "text": [
            "Probabilistic KnockoffNets (vs. Protected) 46.38297872340426\n",
            "Argmax KnockoffNets (vs. Protected) 46.38297872340426\n",
            "Probabilistic CopycatCNN (vs. Protected) 46.38297872340426\n",
            "Argmax CopycatCNN (vs. Protected) 46.38297872340426\n",
            "Probabilistic KnockoffNets (vs. Protected) 46.335697399527184\n",
            "Argmax KnockoffNets (vs. Protected) 46.335697399527184\n"
          ]
        }
      ]
    },
    {
      "cell_type": "markdown",
      "source": [
        "# Cell 12\n",
        "# Plotting stolen model's accuracy."
      ],
      "metadata": {
        "id": "Ajn8nHrPvDBJ"
      }
    },
    {
      "cell_type": "code",
      "source": [
        "import pandas as pd\n",
        "df_protected = pd.DataFrame(results_protected, columns=('Method Name', 'Stealing Dataset Size', 'Accuracy'))\n",
        "fig, ax = plt.subplots(figsize=(8,6))\n",
        "ax.set_xlabel(\"Stealing Dataset Size\")\n",
        "ax.set_ylabel(\"Stolen Model Accuracy\")\n",
        "for name, group in df_protected.groupby(\"Method Name\"):\n",
        "    group.plot(1, 2, ax=ax, label=name)\n",
        "plt.show()"
      ],
      "metadata": {
        "colab": {
          "base_uri": "https://localhost:8080/",
          "height": 388
        },
        "id": "OokKuw63Hv6-",
        "outputId": "30385d55-2046-4a62-85a1-b678717e885f"
      },
      "execution_count": null,
      "outputs": [
        {
          "output_type": "display_data",
          "data": {
            "text/plain": [
              "<Figure size 576x432 with 1 Axes>"
            ],
            "image/png": "[encoded data removed]"
          },
          "metadata": {
            "needs_background": "light"
          }
        }
      ]
    },
    {
      "cell_type": "markdown",
      "source": [
        "# Cell 13\n",
        "# Comparing unprotected and protected models."
      ],
      "metadata": {
        "id": "o3KMeydFvNB0"
      }
    },
    {
      "cell_type": "code",
      "source": [
        "df_combined = pd.concat([df, df_protected])\n",
        "groupby = df_combined.groupby(\"Method Name\")\n",
        "names = [\"CopycatCNN\", \"KnockoffNets\"]\n",
        "for name in names:\n",
        "    fig, ax = plt.subplots(figsize=(8,6))\n",
        "    groupby.get_group(\"Probabilistic \" + name).plot(1,2,ax=ax, label=\"Probabilistic \" + name)\n",
        "    groupby.get_group(\"Probabilistic \" + name + \" (vs. Protected)\").plot(1,2,ax=ax, label=\"Probabilistic \" + name + \" (vs. Protected)\")\n",
        "    ax.set_xlabel(\"Stealing Dataset Size\")\n",
        "    ax.set_ylabel(\"Stolen Model Accuracy\")\n",
        "    fig.show()"
      ],
      "metadata": {
        "colab": {
          "base_uri": "https://localhost:8080/",
          "height": 764
        },
        "id": "b6GaEeRLKcoc",
        "outputId": "7b761207-5bef-4e95-b5aa-a4c8e898b2b7"
      },
      "execution_count": null,
      "outputs": [
        {
          "output_type": "display_data",
          "data": {
            "text/plain": [
              "<Figure size 576x432 with 1 Axes>"
            ],
            "image/png": "[encoded data removed]"
          },
          "metadata": {
            "needs_background": "light"
          }
        },
        {
          "output_type": "display_data",
          "data": {
            "text/plain": [
              "<Figure size 576x432 with 1 Axes>"
            ],
            "image/png": "[encoded data removed]"
          },
          "metadata": {
            "needs_background": "light"
          }
        }
      ]
    }
  ]
}